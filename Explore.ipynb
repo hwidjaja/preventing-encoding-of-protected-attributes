{
 "cells": [
  {
   "cell_type": "code",
   "execution_count": 1,
   "id": "a3171632",
   "metadata": {},
   "outputs": [],
   "source": [
    "import pandas as pd\n",
    "import numpy as np\n",
    "import matplotlib.pyplot as plt"
   ]
  },
  {
   "cell_type": "code",
   "execution_count": 2,
   "id": "5b5ce3d6",
   "metadata": {},
   "outputs": [],
   "source": [
    "from sklearn.model_selection import train_test_split"
   ]
  },
  {
   "cell_type": "code",
   "execution_count": 3,
   "id": "c2df9f66",
   "metadata": {},
   "outputs": [
    {
     "data": {
      "text/plain": [
       "([6, 1, 8, 3, 10, 5, 4, 7], [9, 2])"
      ]
     },
     "execution_count": 3,
     "metadata": {},
     "output_type": "execute_result"
    }
   ],
   "source": [
    "all_data = [1,2,3,4,5,6,7,8,9,10]\n",
    "train, test = train_test_split(all_data, test_size=0.2, random_state=42)\n",
    "train, test"
   ]
  },
  {
   "cell_type": "code",
   "execution_count": 4,
   "id": "0753d178",
   "metadata": {},
   "outputs": [
    {
     "data": {
      "text/plain": [
       "(['6', '1', '8', '3', '10', '5', '4', '7'], ['9', '2'])"
      ]
     },
     "execution_count": 4,
     "metadata": {},
     "output_type": "execute_result"
    }
   ],
   "source": [
    "all_data = ['1', '2', '3', '4', '5', '6', '7', '8', '9', '10']\n",
    "train, test = train_test_split(all_data, test_size=0.2, random_state=42)\n",
    "train, test"
   ]
  },
  {
   "cell_type": "markdown",
   "id": "7edef3c8",
   "metadata": {},
   "source": [
    "# Off-the-shelf model evaluation\n",
    "Here we analyze the scores that the Perspective API gave to various tweets"
   ]
  },
  {
   "cell_type": "code",
   "execution_count": 2,
   "id": "28cc7d63",
   "metadata": {},
   "outputs": [],
   "source": [
    "dev_df = pd.read_csv('civility_data/dev.tsv', sep='\\t')\n",
    "demog_dev_df = pd.read_csv('civility_data/mini_demographic_dev.tsv', sep='\\t')"
   ]
  },
  {
   "cell_type": "code",
   "execution_count": 3,
   "id": "91d22b4e",
   "metadata": {},
   "outputs": [],
   "source": [
    "# apply threshold to see which tweets Perspective thinks is toxic\n",
    "threshold = 0.8\n",
    "\n",
    "dev_df['is_offensive_pred'] = dev_df['perspective_score'] > threshold\n",
    "demog_dev_df['is_offensive_pred'] = demog_dev_df['perspective_score'] > threshold\n",
    "\n",
    "dev_df['is_offensive_true'] = dev_df['label'] == 'OFF'\n",
    "demog_dev_df['is_offensive_true'] = False  # this dataset contains no offensive tweets"
   ]
  },
  {
   "cell_type": "code",
   "execution_count": 4,
   "id": "556a39ed",
   "metadata": {},
   "outputs": [
    {
     "name": "stdout",
     "output_type": "stream",
     "text": [
      "performance on dev.tsv:\n",
      "accuracy: 0.7643504531722054\n",
      "f1 score: 0.8472086190009795\n",
      "\n",
      "performance on mini_demographic_dev.tsv:\n",
      "accuracy: 0.9193611987381703\n",
      "f1 score: 0.9579866461222394\n"
     ]
    }
   ],
   "source": [
    "# accuracy and F1 score (offensive = positive class, not offensive = negative class)\n",
    "from sklearn.metrics import f1_score\n",
    "\n",
    "print('performance on dev.tsv:')\n",
    "print('accuracy:', np.mean(dev_df['is_offensive_pred'] == dev_df['is_offensive_true']))\n",
    "print('f1 score:', f1_score(\n",
    "    1-dev_df['is_offensive_true'], 1-dev_df['is_offensive_pred'])\n",
    ")  # flip labels: offensive should be negative class\n",
    "\n",
    "print()\n",
    "\n",
    "print('performance on mini_demographic_dev.tsv:')\n",
    "print('accuracy:', np.mean(demog_dev_df['is_offensive_pred'] == demog_dev_df['is_offensive_true']))\n",
    "print('f1 score:', f1_score(\n",
    "    1-demog_dev_df['is_offensive_true'], 1-demog_dev_df['is_offensive_pred'])\n",
    ")  # flip labels: offensive should be negative class"
   ]
  },
  {
   "cell_type": "code",
   "execution_count": 5,
   "id": "bf527ce0",
   "metadata": {},
   "outputs": [
    {
     "name": "stdout",
     "output_type": "stream",
     "text": [
      "4235 310\n",
      "335 34\n",
      "332 63\n",
      "170 2\n"
     ]
    },
    {
     "data": {
      "image/png": "[encoded data removed]",
      "text/plain": [
       "<Figure size 432x288 with 1 Axes>"
      ]
     },
     "metadata": {
      "needs_background": "light"
     },
     "output_type": "display_data"
    }
   ],
   "source": [
    "def fpr(y_true, y_pred):\n",
    "    tot_neg = (y_true == False).sum()\n",
    "    fp      = ((y_true == False) & (y_pred == True)).sum()\n",
    "    print(tot_neg, fp)\n",
    "    return fp/tot_neg\n",
    "\n",
    "# report FPR for different demographic groups in demog_dev_df:\n",
    "demog_fpr  = {\n",
    "    demog: fpr(\n",
    "        y_true = demog_dev_df[demog_dev_df['demographic'] == demog]['is_offensive_true'],\n",
    "        y_pred = demog_dev_df[demog_dev_df['demographic'] == demog]['is_offensive_pred']\n",
    "    ) for demog in demog_dev_df['demographic'].unique()\n",
    "}\n",
    "\n",
    "# plot\n",
    "plt.figure()\n",
    "plt.title('FPR per demographic group')\n",
    "plt.bar(demog_fpr.keys(), demog_fpr.values())\n",
    "plt.show()"
   ]
  },
  {
   "cell_type": "code",
   "execution_count": 6,
   "id": "b5e09acc",
   "metadata": {},
   "outputs": [
    {
     "data": {
      "text/plain": [
       "{'White': 0.07319952774498228,\n",
       " 'Hispanic': 0.10149253731343283,\n",
       " 'AA': 0.1897590361445783,\n",
       " 'Other': 0.011764705882352941}"
      ]
     },
     "execution_count": 6,
     "metadata": {},
     "output_type": "execute_result"
    }
   ],
   "source": [
    "demog_fpr"
   ]
  },
  {
   "cell_type": "code",
   "execution_count": 8,
   "id": "03e876c0",
   "metadata": {},
   "outputs": [
    {
     "data": {
      "text/plain": [
       "0.06407265938020093"
      ]
     },
     "execution_count": 8,
     "metadata": {},
     "output_type": "execute_result"
    }
   ],
   "source": [
    "np.std(list(demog_fpr.values()))"
   ]
  },
  {
   "cell_type": "markdown",
   "id": "97819a58",
   "metadata": {},
   "source": [
    "# Baseline custom model\n",
    "We will follow this tutorial: https://scikit-learn.org/stable/tutorial/text_analytics/working_with_text_data.html"
   ]
  },
  {
   "cell_type": "code",
   "execution_count": 9,
   "id": "8f6091bd",
   "metadata": {},
   "outputs": [],
   "source": [
    "train_df = pd.read_csv('civility_data/train.tsv', sep='\\t')"
   ]
  },
  {
   "cell_type": "code",
   "execution_count": 10,
   "id": "36965a1e",
   "metadata": {},
   "outputs": [
    {
     "data": {
      "text/plain": [
       "(10592, 16934)"
      ]
     },
     "execution_count": 10,
     "metadata": {},
     "output_type": "execute_result"
    }
   ],
   "source": [
    "from sklearn.feature_extraction.text import CountVectorizer\n",
    "\n",
    "count_vect = CountVectorizer()\n",
    "X_train_counts = count_vect.fit_transform(train_df['text'])\n",
    "X_train_counts.shape"
   ]
  },
  {
   "cell_type": "code",
   "execution_count": 11,
   "id": "0bc3515e",
   "metadata": {},
   "outputs": [
    {
     "data": {
      "text/plain": [
       "14978"
      ]
     },
     "execution_count": 11,
     "metadata": {},
     "output_type": "execute_result"
    }
   ],
   "source": [
    "count_vect.vocabulary_.get(u'the')"
   ]
  },
  {
   "cell_type": "markdown",
   "id": "c431b1a0",
   "metadata": {},
   "source": [
    "Occurrence count is a good start but there is an issue: longer documents will have higher average count values than shorter documents, even though they might talk about the same topics.\n",
    "\n",
    "To avoid these potential discrepancies it suffices to divide the number of occurrences of each word in a document by the total number of words in the document: these new features are called tf for Term Frequencies.\n",
    "\n",
    "Another refinement on top of tf is to downscale weights for words that occur in many documents in the corpus and are therefore less informative than those that occur only in a smaller portion of the corpus.\n",
    "\n",
    "This downscaling is called tf–idf for “Term Frequency times Inverse Document Frequency”.\n",
    "\n",
    "Both tf and tf–idf can be computed as follows using TfidfTransformer:"
   ]
  },
  {
   "cell_type": "code",
   "execution_count": 12,
   "id": "58b39308",
   "metadata": {},
   "outputs": [
    {
     "data": {
      "text/plain": [
       "(10592, 16934)"
      ]
     },
     "execution_count": 12,
     "metadata": {},
     "output_type": "execute_result"
    }
   ],
   "source": [
    "from sklearn.feature_extraction.text import TfidfTransformer\n",
    "\n",
    "tfidf_transformer = TfidfTransformer()\n",
    "X_train_tfidf = tfidf_transformer.fit_transform(X_train_counts)\n",
    "X_train_tfidf.shape"
   ]
  },
  {
   "cell_type": "markdown",
   "id": "ca6a8574",
   "metadata": {},
   "source": [
    "Now that we have our features, we can train a classifier to try to predict the category of a post. Let’s start with a naïve Bayes classifier, which provides a nice baseline for this task. scikit-learn includes several variants of this classifier; the one most suitable for word counts is the multinomial variant:"
   ]
  },
  {
   "cell_type": "code",
   "execution_count": 13,
   "id": "b276e883",
   "metadata": {},
   "outputs": [],
   "source": [
    "from sklearn.naive_bayes import MultinomialNB\n",
    "clf = MultinomialNB().fit( X_train_tfidf, (train_df['label']=='OFF') )"
   ]
  },
  {
   "cell_type": "markdown",
   "id": "52aadcc0",
   "metadata": {},
   "source": [
    "In order to make the vectorizer => transformer => classifier easier to work with, scikit-learn provides a Pipeline class that behaves like a compound classifier:"
   ]
  },
  {
   "cell_type": "code",
   "execution_count": 14,
   "id": "e4974f23",
   "metadata": {},
   "outputs": [
    {
     "data": {
      "text/plain": [
       "Pipeline(steps=[('vect', CountVectorizer()), ('tfidf', TfidfTransformer()),\n",
       "                ('clf', MultinomialNB())])"
      ]
     },
     "execution_count": 14,
     "metadata": {},
     "output_type": "execute_result"
    }
   ],
   "source": [
    "from sklearn.pipeline import Pipeline\n",
    "\n",
    "text_clf = Pipeline([\n",
    "    ('vect', CountVectorizer()),\n",
    "    ('tfidf', TfidfTransformer()),\n",
    "    ('clf', MultinomialNB()),\n",
    "])\n",
    "\n",
    "text_clf.fit(train_df['text'], (train_df['label']=='OFF'))"
   ]
  },
  {
   "cell_type": "code",
   "execution_count": 15,
   "id": "e1329a2d",
   "metadata": {},
   "outputs": [
    {
     "data": {
      "text/plain": [
       "0.7425415407854985"
      ]
     },
     "execution_count": 15,
     "metadata": {},
     "output_type": "execute_result"
    }
   ],
   "source": [
    "# evaluate\n",
    "\n",
    "train_pred = text_clf.predict(train_df['text'])\n",
    "train_true = (train_df['label']=='OFF')\n",
    "np.mean(train_pred == train_true)"
   ]
  },
  {
   "cell_type": "code",
   "execution_count": 16,
   "id": "64068837",
   "metadata": {},
   "outputs": [
    {
     "name": "stdout",
     "output_type": "stream",
     "text": [
      "performance on dev.tsv:\n",
      "accuracy: 0.7046827794561934\n",
      "f1 score: 0.817545496966869\n",
      "\n",
      "performance on mini_demographic_dev.tsv:\n",
      "accuracy: 0.9487381703470031\n",
      "f1 score: 0.9736948603804128\n"
     ]
    }
   ],
   "source": [
    "dev_pred = text_clf.predict(dev_df['text'])\n",
    "dev_true = dev_df['is_offensive_true'].values\n",
    "\n",
    "print('performance on dev.tsv:')\n",
    "print('accuracy:', np.mean(dev_pred == dev_true))\n",
    "print('f1 score:', f1_score(1-dev_true, 1-dev_pred))  # flip labels: offensive should be negative class\n",
    "print()\n",
    "\n",
    "\n",
    "demog_dev_pred = text_clf.predict(demog_dev_df['text'])\n",
    "demog_dev_true = demog_dev_df['is_offensive_true'].values\n",
    "\n",
    "print('performance on mini_demographic_dev.tsv:')\n",
    "print('accuracy:', np.mean(demog_dev_pred == demog_dev_true))\n",
    "print('f1 score:', f1_score(1-demog_dev_true, 1-demog_dev_pred))  # flip labels: offensive should be negative class"
   ]
  },
  {
   "cell_type": "code",
   "execution_count": 17,
   "id": "884d9a2a",
   "metadata": {},
   "outputs": [
    {
     "name": "stdout",
     "output_type": "stream",
     "text": [
      "4235 185\n",
      "335 20\n",
      "332 52\n",
      "170 3\n"
     ]
    },
    {
     "data": {
      "image/png": "[encoded data removed]",
      "text/plain": [
       "<Figure size 432x288 with 1 Axes>"
      ]
     },
     "metadata": {
      "needs_background": "light"
     },
     "output_type": "display_data"
    }
   ],
   "source": [
    "def fpr(y_true, y_pred):\n",
    "    tot_neg = (y_true == False).sum()\n",
    "    fp      = ((y_true == False) & (y_pred == True)).sum()\n",
    "    print(tot_neg, fp)\n",
    "    return fp/tot_neg\n",
    "\n",
    "# report FPR for different demographic groups in demog_dev_df:\n",
    "demog_fpr_custom  = {\n",
    "    demog: fpr(\n",
    "        y_true = demog_dev_df[demog_dev_df['demographic'] == demog]['is_offensive_true'],\n",
    "        y_pred = text_clf.predict(demog_dev_df[demog_dev_df['demographic'] == demog]['text'])\n",
    "    ) for demog in demog_dev_df['demographic'].unique()\n",
    "}\n",
    "\n",
    "# plot\n",
    "plt.figure()\n",
    "plt.title('FPR per demographic group')\n",
    "plt.bar(demog_fpr_custom.keys(), demog_fpr_custom.values())\n",
    "plt.show()"
   ]
  },
  {
   "cell_type": "code",
   "execution_count": 18,
   "id": "8c6e377d",
   "metadata": {},
   "outputs": [
    {
     "data": {
      "text/plain": [
       "<AxesSubplot:xlabel='demographic'>"
      ]
     },
     "execution_count": 18,
     "metadata": {},
     "output_type": "execute_result"
    },
    {
     "data": {
      "image/png": "[encoded data removed]",
      "text/plain": [
       "<Figure size 432x288 with 1 Axes>"
      ]
     },
     "metadata": {
      "needs_background": "light"
     },
     "output_type": "display_data"
    }
   ],
   "source": [
    "# side by side\n",
    "demogs = list(demog_fpr_custom.keys())\n",
    "demog_fpr_comparison_df = pd.DataFrame({\n",
    "    'demographic': demogs,\n",
    "    'perspective': [demog_fpr[demog] for demog in demogs],\n",
    "    'naive bayes': [demog_fpr_custom[demog] for demog in demogs]\n",
    "})\n",
    "demog_fpr_comparison_df.plot(x = 'demographic', y = ['perspective', 'naive bayes'], kind='bar')"
   ]
  },
  {
   "cell_type": "code",
   "execution_count": 19,
   "id": "69643e19",
   "metadata": {},
   "outputs": [
    {
     "data": {
      "text/plain": [
       "{'White': 0.043683589138134596,\n",
       " 'Hispanic': 0.05970149253731343,\n",
       " 'AA': 0.1566265060240964,\n",
       " 'Other': 0.01764705882352941}"
      ]
     },
     "execution_count": 19,
     "metadata": {},
     "output_type": "execute_result"
    }
   ],
   "source": [
    "demog_fpr_custom"
   ]
  },
  {
   "cell_type": "code",
   "execution_count": 20,
   "id": "b779f3b1",
   "metadata": {},
   "outputs": [
    {
     "data": {
      "text/plain": [
       "0.05254099411020251"
      ]
     },
     "execution_count": 20,
     "metadata": {},
     "output_type": "execute_result"
    }
   ],
   "source": [
    "np.std(list(demog_fpr_custom.values()))"
   ]
  },
  {
   "cell_type": "code",
   "execution_count": 17,
   "id": "25354c3f",
   "metadata": {},
   "outputs": [
    {
     "data": {
      "text/html": [
       "<div>\n",
       "<style scoped>\n",
       "    .dataframe tbody tr th:only-of-type {\n",
       "        vertical-align: middle;\n",
       "    }\n",
       "\n",
       "    .dataframe tbody tr th {\n",
       "        vertical-align: top;\n",
       "    }\n",
       "\n",
       "    .dataframe thead th {\n",
       "        text-align: right;\n",
       "    }\n",
       "</style>\n",
       "<table border=\"1\" class=\"dataframe\">\n",
       "  <thead>\n",
       "    <tr style=\"text-align: right;\">\n",
       "      <th></th>\n",
       "      <th>text</th>\n",
       "      <th>perspective_score</th>\n",
       "      <th>is_offensive_pred</th>\n",
       "      <th>is_offensive_true</th>\n",
       "    </tr>\n",
       "    <tr>\n",
       "      <th>demographic</th>\n",
       "      <th></th>\n",
       "      <th></th>\n",
       "      <th></th>\n",
       "      <th></th>\n",
       "    </tr>\n",
       "  </thead>\n",
       "  <tbody>\n",
       "    <tr>\n",
       "      <th>AA</th>\n",
       "      <td>332</td>\n",
       "      <td>332</td>\n",
       "      <td>332</td>\n",
       "      <td>332</td>\n",
       "    </tr>\n",
       "    <tr>\n",
       "      <th>Hispanic</th>\n",
       "      <td>335</td>\n",
       "      <td>335</td>\n",
       "      <td>335</td>\n",
       "      <td>335</td>\n",
       "    </tr>\n",
       "    <tr>\n",
       "      <th>Other</th>\n",
       "      <td>170</td>\n",
       "      <td>170</td>\n",
       "      <td>170</td>\n",
       "      <td>170</td>\n",
       "    </tr>\n",
       "    <tr>\n",
       "      <th>White</th>\n",
       "      <td>4235</td>\n",
       "      <td>4232</td>\n",
       "      <td>4235</td>\n",
       "      <td>4235</td>\n",
       "    </tr>\n",
       "  </tbody>\n",
       "</table>\n",
       "</div>"
      ],
      "text/plain": [
       "             text  perspective_score  is_offensive_pred  is_offensive_true\n",
       "demographic                                                               \n",
       "AA            332                332                332                332\n",
       "Hispanic      335                335                335                335\n",
       "Other         170                170                170                170\n",
       "White        4235               4232               4235               4235"
      ]
     },
     "execution_count": 17,
     "metadata": {},
     "output_type": "execute_result"
    }
   ],
   "source": [
    "# how many examples in each demographic?\n",
    "demog_dev_df.groupby('demographic').count()"
   ]
  },
  {
   "cell_type": "markdown",
   "id": "1632caaa",
   "metadata": {},
   "source": [
    "# Error analysis\n",
    "Here we examine mistakes the Perspective model makes on dev set."
   ]
  },
  {
   "cell_type": "code",
   "execution_count": 27,
   "id": "3cffa4fa",
   "metadata": {},
   "outputs": [
    {
     "data": {
      "text/plain": [
       "19"
      ]
     },
     "execution_count": 27,
     "metadata": {},
     "output_type": "execute_result"
    }
   ],
   "source": [
    "# grab incorrect predictions\n",
    "perspective_error_df = dev_df[\n",
    "      (dev_df['is_offensive_pred'] == True) \n",
    "    & (dev_df['is_offensive_true'] == False)\n",
    "]\n",
    "len(perspective_error_df)"
   ]
  },
  {
   "cell_type": "code",
   "execution_count": 28,
   "id": "f83fc35c",
   "metadata": {},
   "outputs": [
    {
     "data": {
      "text/html": [
       "<div>\n",
       "<style scoped>\n",
       "    .dataframe tbody tr th:only-of-type {\n",
       "        vertical-align: middle;\n",
       "    }\n",
       "\n",
       "    .dataframe tbody tr th {\n",
       "        vertical-align: top;\n",
       "    }\n",
       "\n",
       "    .dataframe thead th {\n",
       "        text-align: right;\n",
       "    }\n",
       "</style>\n",
       "<table border=\"1\" class=\"dataframe\">\n",
       "  <thead>\n",
       "    <tr style=\"text-align: right;\">\n",
       "      <th></th>\n",
       "      <th>text</th>\n",
       "      <th>label</th>\n",
       "      <th>category</th>\n",
       "      <th>perspective_score</th>\n",
       "      <th>is_offensive_pred</th>\n",
       "      <th>is_offensive_true</th>\n",
       "    </tr>\n",
       "  </thead>\n",
       "  <tbody>\n",
       "    <tr>\n",
       "      <th>47</th>\n",
       "      <td>@USER I'M SO FUCKING READY</td>\n",
       "      <td>NOT</td>\n",
       "      <td>NaN</td>\n",
       "      <td>0.871854</td>\n",
       "      <td>True</td>\n",
       "      <td>False</td>\n",
       "    </tr>\n",
       "    <tr>\n",
       "      <th>186</th>\n",
       "      <td>@USER No fucking way he said this!</td>\n",
       "      <td>NOT</td>\n",
       "      <td>NaN</td>\n",
       "      <td>0.883508</td>\n",
       "      <td>True</td>\n",
       "      <td>False</td>\n",
       "    </tr>\n",
       "    <tr>\n",
       "      <th>264</th>\n",
       "      <td>@USER @USER That's just modelling. Plenty of women make shit tons of money just for looking good</td>\n",
       "      <td>NOT</td>\n",
       "      <td>NaN</td>\n",
       "      <td>0.871575</td>\n",
       "      <td>True</td>\n",
       "      <td>False</td>\n",
       "    </tr>\n",
       "    <tr>\n",
       "      <th>304</th>\n",
       "      <td>@USER @USER @USER @USER @USER @USER @USER @USER Trash</td>\n",
       "      <td>NOT</td>\n",
       "      <td>NaN</td>\n",
       "      <td>0.837765</td>\n",
       "      <td>True</td>\n",
       "      <td>False</td>\n",
       "    </tr>\n",
       "    <tr>\n",
       "      <th>332</th>\n",
       "      <td>@USER @USER @USER don’t perpetuate colonialism. If you are going to talk about #puertorico you must have Puerto Ricans in the panel! Jeezuz.fucking.christ! How difficult can that be? #diásporaenresistencia URL</td>\n",
       "      <td>NOT</td>\n",
       "      <td>NaN</td>\n",
       "      <td>0.933502</td>\n",
       "      <td>True</td>\n",
       "      <td>False</td>\n",
       "    </tr>\n",
       "    <tr>\n",
       "      <th>405</th>\n",
       "      <td>#SJW crap and/or #Paedophilia ..  #Hollywood #TV #Movies #Gaming #Politics #Comics #Police #PublicAuthorities like #Councils .. #DWP #DWPCrimes  #CatholicChurch or #Church  #Vatican  #Islam and #Muslims used as a weapon ..  Missed anything?! #NHS maybe?  #MBGA #Conservatives</td>\n",
       "      <td>NOT</td>\n",
       "      <td>NaN</td>\n",
       "      <td>0.831707</td>\n",
       "      <td>True</td>\n",
       "      <td>False</td>\n",
       "    </tr>\n",
       "    <tr>\n",
       "      <th>410</th>\n",
       "      <td>@USER He’s gonna tip him two new assholes</td>\n",
       "      <td>NOT</td>\n",
       "      <td>NaN</td>\n",
       "      <td>0.904623</td>\n",
       "      <td>True</td>\n",
       "      <td>False</td>\n",
       "    </tr>\n",
       "    <tr>\n",
       "      <th>420</th>\n",
       "      <td>@USER @USER @USER I don't think you have a clue what leadership and liberals have the temperament of 2 year old children being told no....you have the intellectual brilliance of a goat.. please stop tweeting. TDS  is making look quite the fool..</td>\n",
       "      <td>NOT</td>\n",
       "      <td>NaN</td>\n",
       "      <td>0.839066</td>\n",
       "      <td>True</td>\n",
       "      <td>False</td>\n",
       "    </tr>\n",
       "    <tr>\n",
       "      <th>503</th>\n",
       "      <td>@USER Hi has me energized.  @USER  He is such an idiot!  I can’t believe he “surfaced” again.</td>\n",
       "      <td>NOT</td>\n",
       "      <td>NaN</td>\n",
       "      <td>0.946896</td>\n",
       "      <td>True</td>\n",
       "      <td>False</td>\n",
       "    </tr>\n",
       "    <tr>\n",
       "      <th>543</th>\n",
       "      <td>@USER IT'S FUCKING TIME!!</td>\n",
       "      <td>NOT</td>\n",
       "      <td>NaN</td>\n",
       "      <td>0.901701</td>\n",
       "      <td>True</td>\n",
       "      <td>False</td>\n",
       "    </tr>\n",
       "    <tr>\n",
       "      <th>573</th>\n",
       "      <td>@USER Get the hell out of my country that u hate @USER the u have trashed &amp;amp; weaponized OUR GOVT for 8 yrs to destroy us &amp;amp; quit telling our kids to hate the best county your a disgrace!</td>\n",
       "      <td>NOT</td>\n",
       "      <td>NaN</td>\n",
       "      <td>0.873754</td>\n",
       "      <td>True</td>\n",
       "      <td>False</td>\n",
       "    </tr>\n",
       "    <tr>\n",
       "      <th>577</th>\n",
       "      <td>@USER Best part is if you read the exchange he had in that thread, a year later this dude comes back on his same blm and Antifa caused nazis\" bullshit lmao.   And by \"best\" i mean saddest.\"</td>\n",
       "      <td>NOT</td>\n",
       "      <td>NaN</td>\n",
       "      <td>0.835684</td>\n",
       "      <td>True</td>\n",
       "      <td>False</td>\n",
       "    </tr>\n",
       "    <tr>\n",
       "      <th>711</th>\n",
       "      <td>@USER Jonah hill ratted your sorry ass out wdym</td>\n",
       "      <td>NOT</td>\n",
       "      <td>NaN</td>\n",
       "      <td>0.920648</td>\n",
       "      <td>True</td>\n",
       "      <td>False</td>\n",
       "    </tr>\n",
       "    <tr>\n",
       "      <th>838</th>\n",
       "      <td>@USER its all about you ... trying to sell your stuff  don't worry that everything is going to shit politically   you must be Liberals</td>\n",
       "      <td>NOT</td>\n",
       "      <td>NaN</td>\n",
       "      <td>0.871854</td>\n",
       "      <td>True</td>\n",
       "      <td>False</td>\n",
       "    </tr>\n",
       "    <tr>\n",
       "      <th>1082</th>\n",
       "      <td>@USER you are the only motherfucker with common sense on this website</td>\n",
       "      <td>NOT</td>\n",
       "      <td>NaN</td>\n",
       "      <td>0.974025</td>\n",
       "      <td>True</td>\n",
       "      <td>False</td>\n",
       "    </tr>\n",
       "    <tr>\n",
       "      <th>1171</th>\n",
       "      <td>@USER Bullshit there's rich liberals too so what are you saying ???</td>\n",
       "      <td>NOT</td>\n",
       "      <td>NaN</td>\n",
       "      <td>0.921834</td>\n",
       "      <td>True</td>\n",
       "      <td>False</td>\n",
       "    </tr>\n",
       "    <tr>\n",
       "      <th>1212</th>\n",
       "      <td>@USER @USER @USER Good. We don’t want your vote. Why don’t you want to see the corruption? It shouldn’t matter what side you are on! Shame on you!</td>\n",
       "      <td>NOT</td>\n",
       "      <td>NaN</td>\n",
       "      <td>0.837852</td>\n",
       "      <td>True</td>\n",
       "      <td>False</td>\n",
       "    </tr>\n",
       "    <tr>\n",
       "      <th>1292</th>\n",
       "      <td>@USER 🤦🏾‍♀️ she’s dead ass serious too. Smdh</td>\n",
       "      <td>NOT</td>\n",
       "      <td>NaN</td>\n",
       "      <td>0.890875</td>\n",
       "      <td>True</td>\n",
       "      <td>False</td>\n",
       "    </tr>\n",
       "    <tr>\n",
       "      <th>1310</th>\n",
       "      <td>@USER @USER @USER These people in the MSM are DISGUSTING 🇺🇸🇺🇸#MAGA</td>\n",
       "      <td>NOT</td>\n",
       "      <td>NaN</td>\n",
       "      <td>0.866405</td>\n",
       "      <td>True</td>\n",
       "      <td>False</td>\n",
       "    </tr>\n",
       "  </tbody>\n",
       "</table>\n",
       "</div>"
      ],
      "text/plain": [
       "                                                                                                                                                                                                                                                                                     text  \\\n",
       "47                                                                                                                                                                                                                                                             @USER I'M SO FUCKING READY   \n",
       "186                                                                                                                                                                                                                                                    @USER No fucking way he said this!   \n",
       "264                                                                                                                                                                                      @USER @USER That's just modelling. Plenty of women make shit tons of money just for looking good   \n",
       "304                                                                                                                                                                                                                                 @USER @USER @USER @USER @USER @USER @USER @USER Trash   \n",
       "332                                                                     @USER @USER @USER don’t perpetuate colonialism. If you are going to talk about #puertorico you must have Puerto Ricans in the panel! Jeezuz.fucking.christ! How difficult can that be? #diásporaenresistencia URL   \n",
       "405   #SJW crap and/or #Paedophilia ..  #Hollywood #TV #Movies #Gaming #Politics #Comics #Police #PublicAuthorities like #Councils .. #DWP #DWPCrimes  #CatholicChurch or #Church  #Vatican  #Islam and #Muslims used as a weapon ..  Missed anything?! #NHS maybe?  #MBGA #Conservatives   \n",
       "410                                                                                                                                                                                                                                             @USER He’s gonna tip him two new assholes   \n",
       "420                                 @USER @USER @USER I don't think you have a clue what leadership and liberals have the temperament of 2 year old children being told no....you have the intellectual brilliance of a goat.. please stop tweeting. TDS  is making look quite the fool..   \n",
       "503                                                                                                                                                                                         @USER Hi has me energized.  @USER  He is such an idiot!  I can’t believe he “surfaced” again.   \n",
       "543                                                                                                                                                                                                                                                             @USER IT'S FUCKING TIME!!   \n",
       "573                                                                                      @USER Get the hell out of my country that u hate @USER the u have trashed &amp; weaponized OUR GOVT for 8 yrs to destroy us &amp; quit telling our kids to hate the best county your a disgrace!   \n",
       "577                                                                                         @USER Best part is if you read the exchange he had in that thread, a year later this dude comes back on his same blm and Antifa caused nazis\" bullshit lmao.   And by \"best\" i mean saddest.\"   \n",
       "711                                                                                                                                                                                                                                       @USER Jonah hill ratted your sorry ass out wdym   \n",
       "838                                                                                                                                                @USER its all about you ... trying to sell your stuff  don't worry that everything is going to shit politically   you must be Liberals   \n",
       "1082                                                                                                                                                                                                                @USER you are the only motherfucker with common sense on this website   \n",
       "1171                                                                                                                                                                                                                  @USER Bullshit there's rich liberals too so what are you saying ???   \n",
       "1212                                                                                                                                   @USER @USER @USER Good. We don’t want your vote. Why don’t you want to see the corruption? It shouldn’t matter what side you are on! Shame on you!   \n",
       "1292                                                                                                                                                                                                                                         @USER 🤦🏾‍♀️ she’s dead ass serious too. Smdh   \n",
       "1310                                                                                                                                                                                                                   @USER @USER @USER These people in the MSM are DISGUSTING 🇺🇸🇺🇸#MAGA   \n",
       "\n",
       "     label category  perspective_score  is_offensive_pred  is_offensive_true  \n",
       "47     NOT      NaN           0.871854               True              False  \n",
       "186    NOT      NaN           0.883508               True              False  \n",
       "264    NOT      NaN           0.871575               True              False  \n",
       "304    NOT      NaN           0.837765               True              False  \n",
       "332    NOT      NaN           0.933502               True              False  \n",
       "405    NOT      NaN           0.831707               True              False  \n",
       "410    NOT      NaN           0.904623               True              False  \n",
       "420    NOT      NaN           0.839066               True              False  \n",
       "503    NOT      NaN           0.946896               True              False  \n",
       "543    NOT      NaN           0.901701               True              False  \n",
       "573    NOT      NaN           0.873754               True              False  \n",
       "577    NOT      NaN           0.835684               True              False  \n",
       "711    NOT      NaN           0.920648               True              False  \n",
       "838    NOT      NaN           0.871854               True              False  \n",
       "1082   NOT      NaN           0.974025               True              False  \n",
       "1171   NOT      NaN           0.921834               True              False  \n",
       "1212   NOT      NaN           0.837852               True              False  \n",
       "1292   NOT      NaN           0.890875               True              False  \n",
       "1310   NOT      NaN           0.866405               True              False  "
      ]
     },
     "execution_count": 28,
     "metadata": {},
     "output_type": "execute_result"
    }
   ],
   "source": [
    "perspective_error_df"
   ]
  },
  {
   "cell_type": "markdown",
   "id": "770d938c",
   "metadata": {},
   "source": [
    "The presence of swear words (fuck, fucking, shit, assholes, idiot, etc.) seems to confuse Perspective to think a tweet's offensive while it's actually not.\n",
    "\n",
    "Let's look at the demographic dev set now:"
   ]
  },
  {
   "cell_type": "code",
   "execution_count": 29,
   "id": "d7869463",
   "metadata": {},
   "outputs": [
    {
     "data": {
      "text/plain": [
       "409"
      ]
     },
     "execution_count": 29,
     "metadata": {},
     "output_type": "execute_result"
    }
   ],
   "source": [
    "# grab incorrect predictions\n",
    "perspective_error_df = demog_dev_df[\n",
    "      (demog_dev_df['is_offensive_pred'] == True) \n",
    "    & (demog_dev_df['is_offensive_true'] == False)\n",
    "]\n",
    "len(perspective_error_df)"
   ]
  },
  {
   "cell_type": "code",
   "execution_count": 31,
   "id": "b5a1de10",
   "metadata": {},
   "outputs": [
    {
     "data": {
      "text/html": [
       "<div>\n",
       "<style scoped>\n",
       "    .dataframe tbody tr th:only-of-type {\n",
       "        vertical-align: middle;\n",
       "    }\n",
       "\n",
       "    .dataframe tbody tr th {\n",
       "        vertical-align: top;\n",
       "    }\n",
       "\n",
       "    .dataframe thead th {\n",
       "        text-align: right;\n",
       "    }\n",
       "</style>\n",
       "<table border=\"1\" class=\"dataframe\">\n",
       "  <thead>\n",
       "    <tr style=\"text-align: right;\">\n",
       "      <th></th>\n",
       "      <th>text</th>\n",
       "      <th>demographic</th>\n",
       "      <th>perspective_score</th>\n",
       "      <th>is_offensive_pred</th>\n",
       "      <th>is_offensive_true</th>\n",
       "    </tr>\n",
       "  </thead>\n",
       "  <tbody>\n",
       "    <tr>\n",
       "      <th>2838</th>\n",
       "      <td>@USER fuck</td>\n",
       "      <td>White</td>\n",
       "      <td>0.957702</td>\n",
       "      <td>True</td>\n",
       "      <td>False</td>\n",
       "    </tr>\n",
       "    <tr>\n",
       "      <th>945</th>\n",
       "      <td>This chick looks miserable</td>\n",
       "      <td>White</td>\n",
       "      <td>0.904024</td>\n",
       "      <td>True</td>\n",
       "      <td>False</td>\n",
       "    </tr>\n",
       "    <tr>\n",
       "      <th>1136</th>\n",
       "      <td>I'm literally so sad now #FUCK</td>\n",
       "      <td>White</td>\n",
       "      <td>0.903893</td>\n",
       "      <td>True</td>\n",
       "      <td>False</td>\n",
       "    </tr>\n",
       "    <tr>\n",
       "      <th>691</th>\n",
       "      <td>Why are you so fucking strange? #juststop</td>\n",
       "      <td>White</td>\n",
       "      <td>0.963069</td>\n",
       "      <td>True</td>\n",
       "      <td>False</td>\n",
       "    </tr>\n",
       "    <tr>\n",
       "      <th>2264</th>\n",
       "      <td>@USER fuck for some reason I thought willmar in my head instead of Alex... #awkward</td>\n",
       "      <td>White</td>\n",
       "      <td>0.859588</td>\n",
       "      <td>True</td>\n",
       "      <td>False</td>\n",
       "    </tr>\n",
       "    <tr>\n",
       "      <th>4284</th>\n",
       "      <td>Holy shit holy shit holy shit holy shit</td>\n",
       "      <td>White</td>\n",
       "      <td>0.959326</td>\n",
       "      <td>True</td>\n",
       "      <td>False</td>\n",
       "    </tr>\n",
       "    <tr>\n",
       "      <th>1105</th>\n",
       "      <td>do whatever the fuck makes you happy because you know who's there for you in the end?\\nyou.</td>\n",
       "      <td>White</td>\n",
       "      <td>0.837789</td>\n",
       "      <td>True</td>\n",
       "      <td>False</td>\n",
       "    </tr>\n",
       "    <tr>\n",
       "      <th>2713</th>\n",
       "      <td>I'm sleepy, fuck yo laundry. Ima watch a movie.</td>\n",
       "      <td>Hispanic</td>\n",
       "      <td>0.950242</td>\n",
       "      <td>True</td>\n",
       "      <td>False</td>\n",
       "    </tr>\n",
       "    <tr>\n",
       "      <th>293</th>\n",
       "      <td>@USER Naw nigga .. You always want to see my body .. *Dials 911 * What's the number to the police station ? Shit fuck it HELPPPP</td>\n",
       "      <td>AA</td>\n",
       "      <td>0.950619</td>\n",
       "      <td>True</td>\n",
       "      <td>False</td>\n",
       "    </tr>\n",
       "    <tr>\n",
       "      <th>1492</th>\n",
       "      <td>Done thinking you done fucked your chance up just that quick. #Bye \\ud83d\\udc4b</td>\n",
       "      <td>White</td>\n",
       "      <td>0.830571</td>\n",
       "      <td>True</td>\n",
       "      <td>False</td>\n",
       "    </tr>\n",
       "  </tbody>\n",
       "</table>\n",
       "</div>"
      ],
      "text/plain": [
       "                                                                                                                                  text  \\\n",
       "2838                                                                                                                        @USER fuck   \n",
       "945                                                                                                         This chick looks miserable   \n",
       "1136                                                                                                    I'm literally so sad now #FUCK   \n",
       "691                                                                                          Why are you so fucking strange? #juststop   \n",
       "2264                                               @USER fuck for some reason I thought willmar in my head instead of Alex... #awkward   \n",
       "4284                                                                                           Holy shit holy shit holy shit holy shit   \n",
       "1105                                       do whatever the fuck makes you happy because you know who's there for you in the end?\\nyou.   \n",
       "2713                                                                                   I'm sleepy, fuck yo laundry. Ima watch a movie.   \n",
       "293   @USER Naw nigga .. You always want to see my body .. *Dials 911 * What's the number to the police station ? Shit fuck it HELPPPP   \n",
       "1492                                                   Done thinking you done fucked your chance up just that quick. #Bye \\ud83d\\udc4b   \n",
       "\n",
       "     demographic  perspective_score  is_offensive_pred  is_offensive_true  \n",
       "2838       White           0.957702               True              False  \n",
       "945        White           0.904024               True              False  \n",
       "1136       White           0.903893               True              False  \n",
       "691        White           0.963069               True              False  \n",
       "2264       White           0.859588               True              False  \n",
       "4284       White           0.959326               True              False  \n",
       "1105       White           0.837789               True              False  \n",
       "2713    Hispanic           0.950242               True              False  \n",
       "293           AA           0.950619               True              False  \n",
       "1492       White           0.830571               True              False  "
      ]
     },
     "execution_count": 31,
     "metadata": {},
     "output_type": "execute_result"
    }
   ],
   "source": [
    "perspective_error_df.sample(10)"
   ]
  },
  {
   "cell_type": "code",
   "execution_count": null,
   "id": "af8ccd17",
   "metadata": {},
   "outputs": [],
   "source": []
  }
 ],
 "metadata": {
  "kernelspec": {
   "display_name": "comp_ethics",
   "language": "python",
   "name": "comp_ethics"
  },
  "language_info": {
   "codemirror_mode": {
    "name": "ipython",
    "version": 3
   },
   "file_extension": ".py",
   "mimetype": "text/x-python",
   "name": "python",
   "nbconvert_exporter": "python",
   "pygments_lexer": "ipython3",
   "version": "3.9.7"
  }
 },
 "nbformat": 4,
 "nbformat_minor": 5
}
